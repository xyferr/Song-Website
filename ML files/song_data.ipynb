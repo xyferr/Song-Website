{
 "cells": [
  {
   "cell_type": "code",
   "execution_count": 6,
   "id": "a00e16b3-9d2f-437c-b3b4-8a1d28327763",
   "metadata": {},
   "outputs": [],
   "source": [
    "import pandas as pd\n",
    "import numpy as np"
   ]
  },
  {
   "cell_type": "code",
   "execution_count": 7,
   "id": "92bfd522-635b-493d-aaf8-9affd6aa4199",
   "metadata": {},
   "outputs": [],
   "source": [
    "sdf = pd.read_csv(r\"../ML files/CSV_files/indian_music_dataset.csv\")"
   ]
  },
  {
   "cell_type": "code",
   "execution_count": 8,
   "id": "9fcf46cb",
   "metadata": {},
   "outputs": [
    {
     "data": {
      "text/html": [
       "<div>\n",
       "<style scoped>\n",
       "    .dataframe tbody tr th:only-of-type {\n",
       "        vertical-align: middle;\n",
       "    }\n",
       "\n",
       "    .dataframe tbody tr th {\n",
       "        vertical-align: top;\n",
       "    }\n",
       "\n",
       "    .dataframe thead th {\n",
       "        text-align: right;\n",
       "    }\n",
       "</style>\n",
       "<table border=\"1\" class=\"dataframe\">\n",
       "  <thead>\n",
       "    <tr style=\"text-align: right;\">\n",
       "      <th></th>\n",
       "      <th>date</th>\n",
       "      <th>title</th>\n",
       "      <th>views</th>\n",
       "      <th>duration</th>\n",
       "      <th>author</th>\n",
       "      <th>thumbnail</th>\n",
       "      <th>url</th>\n",
       "      <th>video_id</th>\n",
       "    </tr>\n",
       "  </thead>\n",
       "  <tbody>\n",
       "    <tr>\n",
       "      <th>0</th>\n",
       "      <td>2022-05-03</td>\n",
       "      <td>Sajjad Ali - AATISH (Official Music Video)</td>\n",
       "      <td>343927</td>\n",
       "      <td>212</td>\n",
       "      <td>Sajjad Ali</td>\n",
       "      <td>https://i.ytimg.com/vi/Sj1GTMZJao8/hq720.jpg?s...</td>\n",
       "      <td>https://youtube.com/watch?v=Sj1GTMZJao8</td>\n",
       "      <td>Sj1GTMZJao8</td>\n",
       "    </tr>\n",
       "    <tr>\n",
       "      <th>1</th>\n",
       "      <td>2019-11-26</td>\n",
       "      <td>Sajjad Ali - RAVI (Official Video)</td>\n",
       "      <td>14153053</td>\n",
       "      <td>230</td>\n",
       "      <td>Sajjad Ali</td>\n",
       "      <td>https://i.ytimg.com/vi/rBk5EKHggKo/hq720.jpg?s...</td>\n",
       "      <td>https://youtube.com/watch?v=rBk5EKHggKo</td>\n",
       "      <td>rBk5EKHggKo</td>\n",
       "    </tr>\n",
       "    <tr>\n",
       "      <th>2</th>\n",
       "      <td>2020-02-10</td>\n",
       "      <td>Sajjad Ali - BAARISH (Official Video)</td>\n",
       "      <td>3658235</td>\n",
       "      <td>227</td>\n",
       "      <td>Sajjad Ali</td>\n",
       "      <td>https://i.ytimg.com/vi/D65OSWyqu5Q/hq720.jpg?s...</td>\n",
       "      <td>https://youtube.com/watch?v=D65OSWyqu5Q</td>\n",
       "      <td>D65OSWyqu5Q</td>\n",
       "    </tr>\n",
       "    <tr>\n",
       "      <th>3</th>\n",
       "      <td>2013-10-09</td>\n",
       "      <td>Sajjad Ali - Yaad  (Official Video)</td>\n",
       "      <td>5242879</td>\n",
       "      <td>235</td>\n",
       "      <td>Sajjad Ali</td>\n",
       "      <td>https://i.ytimg.com/vi/5fHHBe8GnKw/hq720.jpg?s...</td>\n",
       "      <td>https://youtube.com/watch?v=5fHHBe8GnKw</td>\n",
       "      <td>5fHHBe8GnKw</td>\n",
       "    </tr>\n",
       "    <tr>\n",
       "      <th>4</th>\n",
       "      <td>2022-06-07</td>\n",
       "      <td>Sajjad Ali - Door Gayon (Official Audio)</td>\n",
       "      <td>126933</td>\n",
       "      <td>275</td>\n",
       "      <td>Sajjad Ali</td>\n",
       "      <td>https://i.ytimg.com/vi/0m2OE68Dm-c/hq720.jpg?s...</td>\n",
       "      <td>https://youtube.com/watch?v=0m2OE68Dm-c</td>\n",
       "      <td>0m2OE68Dm-c</td>\n",
       "    </tr>\n",
       "  </tbody>\n",
       "</table>\n",
       "</div>"
      ],
      "text/plain": [
       "         date                                       title     views  duration  \\\n",
       "0  2022-05-03  Sajjad Ali - AATISH (Official Music Video)    343927       212   \n",
       "1  2019-11-26          Sajjad Ali - RAVI (Official Video)  14153053       230   \n",
       "2  2020-02-10       Sajjad Ali - BAARISH (Official Video)   3658235       227   \n",
       "3  2013-10-09         Sajjad Ali - Yaad  (Official Video)   5242879       235   \n",
       "4  2022-06-07    Sajjad Ali - Door Gayon (Official Audio)    126933       275   \n",
       "\n",
       "       author                                          thumbnail  \\\n",
       "0  Sajjad Ali  https://i.ytimg.com/vi/Sj1GTMZJao8/hq720.jpg?s...   \n",
       "1  Sajjad Ali  https://i.ytimg.com/vi/rBk5EKHggKo/hq720.jpg?s...   \n",
       "2  Sajjad Ali  https://i.ytimg.com/vi/D65OSWyqu5Q/hq720.jpg?s...   \n",
       "3  Sajjad Ali  https://i.ytimg.com/vi/5fHHBe8GnKw/hq720.jpg?s...   \n",
       "4  Sajjad Ali  https://i.ytimg.com/vi/0m2OE68Dm-c/hq720.jpg?s...   \n",
       "\n",
       "                                       url     video_id  \n",
       "0  https://youtube.com/watch?v=Sj1GTMZJao8  Sj1GTMZJao8  \n",
       "1  https://youtube.com/watch?v=rBk5EKHggKo  rBk5EKHggKo  \n",
       "2  https://youtube.com/watch?v=D65OSWyqu5Q  D65OSWyqu5Q  \n",
       "3  https://youtube.com/watch?v=5fHHBe8GnKw  5fHHBe8GnKw  \n",
       "4  https://youtube.com/watch?v=0m2OE68Dm-c  0m2OE68Dm-c  "
      ]
     },
     "execution_count": 8,
     "metadata": {},
     "output_type": "execute_result"
    }
   ],
   "source": [
    "sdf.head() "
   ]
  },
  {
   "cell_type": "markdown",
   "id": "ec3f26e8",
   "metadata": {},
   "source": []
  },
  {
   "cell_type": "code",
   "execution_count": 9,
   "id": "2cc53021",
   "metadata": {},
   "outputs": [
    {
     "name": "stdout",
     "output_type": "stream",
     "text": [
      "Hello world\n"
     ]
    }
   ],
   "source": [
    "print(\"Hello world\")"
   ]
  },
  {
   "cell_type": "code",
   "execution_count": null,
   "id": "f71c8a91",
   "metadata": {},
   "outputs": [],
   "source": []
  }
 ],
 "metadata": {
  "kernelspec": {
   "display_name": "Python 3 (ipykernel)",
   "language": "python",
   "name": "python3"
  },
  "language_info": {
   "codemirror_mode": {
    "name": "ipython",
    "version": 3
   },
   "file_extension": ".py",
   "mimetype": "text/x-python",
   "name": "python",
   "nbconvert_exporter": "python",
   "pygments_lexer": "ipython3",
   "version": "3.10.9"
  }
 },
 "nbformat": 4,
 "nbformat_minor": 5
}
